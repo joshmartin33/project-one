{
 "cells": [
  {
   "cell_type": "code",
   "execution_count": 1,
   "id": "da736924",
   "metadata": {},
   "outputs": [],
   "source": [
    "import pandas as pd\n",
    "\n",
    "# Store csv path ad name\n",
    "csv = (\"Resources/Cleaned_VCE_results_by_school_with_distance.csv\")\n",
    "\n",
    "# Read in csv file\n",
    "school_df = pd.read_csv(csv) "
   ]
  },
  {
   "cell_type": "code",
   "execution_count": 2,
   "id": "835c501e",
   "metadata": {},
   "outputs": [],
   "source": [
    "# Create series for each Geolocation\n",
    "inner_regional = school_df.loc[school_df[\"Geolocation\"] == \"Inner Regional\"][\"Suburb\"]\n",
    "major_cities = school_df.loc[school_df[\"Geolocation\"] == \"Major Cities\"][\"Suburb\"]\n",
    "outer_regional = school_df.loc[school_df[\"Geolocation\"] == \"Outer Regional\"][\"Suburb\"]\n",
    "remote = school_df.loc[school_df[\"Geolocation\"] == \"Remote\"][\"Suburb\"]"
   ]
  },
  {
   "cell_type": "code",
   "execution_count": 3,
   "id": "f17688e6",
   "metadata": {},
   "outputs": [],
   "source": [
    "# Drop the index for each series\n",
    "inner_regional.reset_index(drop=True, inplace=True)\n",
    "major_cities.reset_index(drop=True, inplace=True)\n",
    "outer_regional.reset_index(drop=True, inplace=True)\n",
    "remote.reset_index(drop=True, inplace=True)"
   ]
  },
  {
   "cell_type": "code",
   "execution_count": 4,
   "id": "c7ab1190",
   "metadata": {},
   "outputs": [],
   "source": [
    "# Create a dataframe of the series created above \n",
    "suburb_by_geolocation_df = pd.DataFrame({\"Major Cities\": major_cities, \n",
    "                                         \"Inner Regional\": inner_regional,\n",
    "                                        \"Outer Regional\": outer_regional,\n",
    "                                        \"Remote\": remote})"
   ]
  },
  {
   "cell_type": "code",
   "execution_count": 5,
   "id": "ff1e999b",
   "metadata": {},
   "outputs": [
    {
     "data": {
      "text/html": [
       "<div>\n",
       "<style scoped>\n",
       "    .dataframe tbody tr th:only-of-type {\n",
       "        vertical-align: middle;\n",
       "    }\n",
       "\n",
       "    .dataframe tbody tr th {\n",
       "        vertical-align: top;\n",
       "    }\n",
       "\n",
       "    .dataframe thead th {\n",
       "        text-align: right;\n",
       "    }\n",
       "</style>\n",
       "<table border=\"1\" class=\"dataframe\">\n",
       "  <thead>\n",
       "    <tr style=\"text-align: right;\">\n",
       "      <th></th>\n",
       "      <th>Major Cities</th>\n",
       "      <th>Inner Regional</th>\n",
       "      <th>Outer Regional</th>\n",
       "      <th>Remote</th>\n",
       "    </tr>\n",
       "  </thead>\n",
       "  <tbody>\n",
       "    <tr>\n",
       "      <th>0</th>\n",
       "      <td>Fitzroy</td>\n",
       "      <td>Alexandra</td>\n",
       "      <td>Bairnsdale</td>\n",
       "      <td>Cann River</td>\n",
       "    </tr>\n",
       "    <tr>\n",
       "      <th>1</th>\n",
       "      <td>Elsternwick</td>\n",
       "      <td>Macedon</td>\n",
       "      <td>Portland</td>\n",
       "      <td>Mallacoota</td>\n",
       "    </tr>\n",
       "    <tr>\n",
       "      <th>2</th>\n",
       "      <td>Greenvale</td>\n",
       "      <td>Apollo Bay</td>\n",
       "      <td>Birchip</td>\n",
       "      <td>Murrayville</td>\n",
       "    </tr>\n",
       "    <tr>\n",
       "      <th>3</th>\n",
       "      <td>Melton South</td>\n",
       "      <td>Ararat</td>\n",
       "      <td>Boort</td>\n",
       "      <td>Rainbow</td>\n",
       "    </tr>\n",
       "    <tr>\n",
       "      <th>4</th>\n",
       "      <td>Epping</td>\n",
       "      <td>Kilmore</td>\n",
       "      <td>Bright</td>\n",
       "      <td>NaN</td>\n",
       "    </tr>\n",
       "  </tbody>\n",
       "</table>\n",
       "</div>"
      ],
      "text/plain": [
       "   Major Cities Inner Regional Outer Regional       Remote\n",
       "0       Fitzroy      Alexandra     Bairnsdale   Cann River\n",
       "1   Elsternwick        Macedon       Portland   Mallacoota\n",
       "2     Greenvale     Apollo Bay        Birchip  Murrayville\n",
       "3  Melton South         Ararat          Boort      Rainbow\n",
       "4        Epping        Kilmore         Bright          NaN"
      ]
     },
     "execution_count": 5,
     "metadata": {},
     "output_type": "execute_result"
    }
   ],
   "source": [
    "# Display head\n",
    "suburb_by_geolocation_df.head()"
   ]
  },
  {
   "cell_type": "code",
   "execution_count": 6,
   "id": "98a17466",
   "metadata": {},
   "outputs": [],
   "source": [
    "# Export this df to a csv so we can analyse the data in another notebook\n",
    "suburb_by_geolocation_df.to_csv(\"Resources/suburb_by_geolocation.csv\", index=False)"
   ]
  }
 ],
 "metadata": {
  "kernelspec": {
   "display_name": "Python [conda env:PythonData2] *",
   "language": "python",
   "name": "conda-env-PythonData2-py"
  },
  "language_info": {
   "codemirror_mode": {
    "name": "ipython",
    "version": 3
   },
   "file_extension": ".py",
   "mimetype": "text/x-python",
   "name": "python",
   "nbconvert_exporter": "python",
   "pygments_lexer": "ipython3",
   "version": "3.7.7"
  }
 },
 "nbformat": 4,
 "nbformat_minor": 5
}
