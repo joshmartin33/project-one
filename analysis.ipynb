{
 "cells": [
  {
   "cell_type": "code",
   "execution_count": 1,
   "id": "0e7ba99c",
   "metadata": {},
   "outputs": [],
   "source": [
    "# Dependencies and Setup\n",
    "import matplotlib.pyplot as plt\n",
    "import pandas as pd\n",
    "import scipy.stats as st\n",
    "import numpy as np\n",
    "import gmaps\n",
    "\n",
    "# Import API key\n",
    "from api_keys import g_key\n",
    "\n",
    "# Configure gmaps\n",
    "gmaps.configure(api_key=g_key)"
   ]
  },
  {
   "cell_type": "code",
   "execution_count": 2,
   "id": "494388dc",
   "metadata": {},
   "outputs": [],
   "source": [
    "# Store csv path ad name\n",
    "csv = (\"Resources/Cleaned_VCE_results_by_school.csv\")\n",
    "\n",
    "# Read in csv file\n",
    "school_df = pd.read_csv(csv) "
   ]
  },
  {
   "cell_type": "code",
   "execution_count": 3,
   "id": "1ca4bdf3",
   "metadata": {},
   "outputs": [
    {
     "data": {
      "text/html": [
       "<div>\n",
       "<style scoped>\n",
       "    .dataframe tbody tr th:only-of-type {\n",
       "        vertical-align: middle;\n",
       "    }\n",
       "\n",
       "    .dataframe tbody tr th {\n",
       "        vertical-align: top;\n",
       "    }\n",
       "\n",
       "    .dataframe thead th {\n",
       "        text-align: right;\n",
       "    }\n",
       "</style>\n",
       "<table border=\"1\" class=\"dataframe\">\n",
       "  <thead>\n",
       "    <tr style=\"text-align: right;\">\n",
       "      <th></th>\n",
       "      <th>School Name</th>\n",
       "      <th>Suburb</th>\n",
       "      <th>Type</th>\n",
       "      <th>Sector</th>\n",
       "      <th>Geolocation</th>\n",
       "      <th>Latitude</th>\n",
       "      <th>Longitude</th>\n",
       "      <th>VET Certs With 2021 Enrolments</th>\n",
       "      <th>% Applying for Tertiary Study</th>\n",
       "      <th>Median VCE Score</th>\n",
       "      <th>VCE 40+ %</th>\n",
       "    </tr>\n",
       "  </thead>\n",
       "  <tbody>\n",
       "    <tr>\n",
       "      <th>0</th>\n",
       "      <td>Academy of Mary Immaculate</td>\n",
       "      <td>Fitzroy</td>\n",
       "      <td>Secondary</td>\n",
       "      <td>Non-Gov</td>\n",
       "      <td>Major Cities</td>\n",
       "      <td>-37.8037</td>\n",
       "      <td>144.974</td>\n",
       "      <td>10</td>\n",
       "      <td>94.0</td>\n",
       "      <td>30</td>\n",
       "      <td>6.5</td>\n",
       "    </tr>\n",
       "    <tr>\n",
       "      <th>1</th>\n",
       "      <td>Adass Israel School</td>\n",
       "      <td>Elsternwick</td>\n",
       "      <td>Combined</td>\n",
       "      <td>Non-Gov</td>\n",
       "      <td>Major Cities</td>\n",
       "      <td>-37.8839</td>\n",
       "      <td>145.008</td>\n",
       "      <td>3</td>\n",
       "      <td>0.0</td>\n",
       "      <td>0</td>\n",
       "      <td>0.0</td>\n",
       "    </tr>\n",
       "    <tr>\n",
       "      <th>2</th>\n",
       "      <td>Aitken College</td>\n",
       "      <td>Greenvale</td>\n",
       "      <td>Combined</td>\n",
       "      <td>Non-Gov</td>\n",
       "      <td>Major Cities</td>\n",
       "      <td>-37.6274</td>\n",
       "      <td>144.888</td>\n",
       "      <td>21</td>\n",
       "      <td>94.2</td>\n",
       "      <td>28</td>\n",
       "      <td>2.7</td>\n",
       "    </tr>\n",
       "    <tr>\n",
       "      <th>3</th>\n",
       "      <td>Al Iman College</td>\n",
       "      <td>Melton South</td>\n",
       "      <td>Combined</td>\n",
       "      <td>Non-Gov</td>\n",
       "      <td>Major Cities</td>\n",
       "      <td>-37.7070</td>\n",
       "      <td>144.565</td>\n",
       "      <td>0</td>\n",
       "      <td>35.7</td>\n",
       "      <td>26</td>\n",
       "      <td>3.9</td>\n",
       "    </tr>\n",
       "    <tr>\n",
       "      <th>4</th>\n",
       "      <td>Al Siraat College</td>\n",
       "      <td>Epping</td>\n",
       "      <td>Combined</td>\n",
       "      <td>Non-Gov</td>\n",
       "      <td>Major Cities</td>\n",
       "      <td>-37.6243</td>\n",
       "      <td>145.038</td>\n",
       "      <td>2</td>\n",
       "      <td>95.0</td>\n",
       "      <td>30</td>\n",
       "      <td>4.6</td>\n",
       "    </tr>\n",
       "    <tr>\n",
       "      <th>5</th>\n",
       "      <td>Albert Park College</td>\n",
       "      <td>Albert Park</td>\n",
       "      <td>Secondary</td>\n",
       "      <td>Gov</td>\n",
       "      <td>Major Cities</td>\n",
       "      <td>-37.8444</td>\n",
       "      <td>144.947</td>\n",
       "      <td>23</td>\n",
       "      <td>85.8</td>\n",
       "      <td>30</td>\n",
       "      <td>9.0</td>\n",
       "    </tr>\n",
       "    <tr>\n",
       "      <th>6</th>\n",
       "      <td>Alexandra Secondary College</td>\n",
       "      <td>Alexandra</td>\n",
       "      <td>Secondary</td>\n",
       "      <td>Gov</td>\n",
       "      <td>Inner Regional</td>\n",
       "      <td>-37.1945</td>\n",
       "      <td>145.701</td>\n",
       "      <td>7</td>\n",
       "      <td>69.6</td>\n",
       "      <td>26</td>\n",
       "      <td>0.8</td>\n",
       "    </tr>\n",
       "    <tr>\n",
       "      <th>7</th>\n",
       "      <td>Alia College</td>\n",
       "      <td>Hawthorn East</td>\n",
       "      <td>Secondary</td>\n",
       "      <td>Non-Gov</td>\n",
       "      <td>Major Cities</td>\n",
       "      <td>-37.8432</td>\n",
       "      <td>145.045</td>\n",
       "      <td>2</td>\n",
       "      <td>25.0</td>\n",
       "      <td>24</td>\n",
       "      <td>0.0</td>\n",
       "    </tr>\n",
       "    <tr>\n",
       "      <th>8</th>\n",
       "      <td>Alice Miller School</td>\n",
       "      <td>Macedon</td>\n",
       "      <td>Combined</td>\n",
       "      <td>Non-Gov</td>\n",
       "      <td>Inner Regional</td>\n",
       "      <td>-37.4466</td>\n",
       "      <td>144.532</td>\n",
       "      <td>2</td>\n",
       "      <td>75.0</td>\n",
       "      <td>35</td>\n",
       "      <td>14.2</td>\n",
       "    </tr>\n",
       "    <tr>\n",
       "      <th>9</th>\n",
       "      <td>Alkira Secondary College</td>\n",
       "      <td>Cranbourne North</td>\n",
       "      <td>Secondary</td>\n",
       "      <td>Gov</td>\n",
       "      <td>Major Cities</td>\n",
       "      <td>-38.0733</td>\n",
       "      <td>145.311</td>\n",
       "      <td>35</td>\n",
       "      <td>81.5</td>\n",
       "      <td>29</td>\n",
       "      <td>3.5</td>\n",
       "    </tr>\n",
       "  </tbody>\n",
       "</table>\n",
       "</div>"
      ],
      "text/plain": [
       "                   School Name            Suburb       Type   Sector  \\\n",
       "0   Academy of Mary Immaculate           Fitzroy  Secondary  Non-Gov   \n",
       "1          Adass Israel School       Elsternwick   Combined  Non-Gov   \n",
       "2               Aitken College         Greenvale   Combined  Non-Gov   \n",
       "3              Al Iman College      Melton South   Combined  Non-Gov   \n",
       "4            Al Siraat College            Epping   Combined  Non-Gov   \n",
       "5          Albert Park College       Albert Park  Secondary      Gov   \n",
       "6  Alexandra Secondary College         Alexandra  Secondary      Gov   \n",
       "7                 Alia College     Hawthorn East  Secondary  Non-Gov   \n",
       "8          Alice Miller School           Macedon   Combined  Non-Gov   \n",
       "9     Alkira Secondary College  Cranbourne North  Secondary      Gov   \n",
       "\n",
       "      Geolocation  Latitude  Longitude  VET Certs With 2021 Enrolments  \\\n",
       "0    Major Cities  -37.8037    144.974                              10   \n",
       "1    Major Cities  -37.8839    145.008                               3   \n",
       "2    Major Cities  -37.6274    144.888                              21   \n",
       "3    Major Cities  -37.7070    144.565                               0   \n",
       "4    Major Cities  -37.6243    145.038                               2   \n",
       "5    Major Cities  -37.8444    144.947                              23   \n",
       "6  Inner Regional  -37.1945    145.701                               7   \n",
       "7    Major Cities  -37.8432    145.045                               2   \n",
       "8  Inner Regional  -37.4466    144.532                               2   \n",
       "9    Major Cities  -38.0733    145.311                              35   \n",
       "\n",
       "   % Applying for Tertiary Study  Median VCE Score  VCE 40+ %  \n",
       "0                           94.0                30        6.5  \n",
       "1                            0.0                 0        0.0  \n",
       "2                           94.2                28        2.7  \n",
       "3                           35.7                26        3.9  \n",
       "4                           95.0                30        4.6  \n",
       "5                           85.8                30        9.0  \n",
       "6                           69.6                26        0.8  \n",
       "7                           25.0                24        0.0  \n",
       "8                           75.0                35       14.2  \n",
       "9                           81.5                29        3.5  "
      ]
     },
     "execution_count": 3,
     "metadata": {},
     "output_type": "execute_result"
    }
   ],
   "source": [
    "school_df.head(10)"
   ]
  },
  {
   "cell_type": "markdown",
   "id": "81abeaf6",
   "metadata": {},
   "source": [
    "# Geolocation visulaisation\n",
    "This section provides an overarching investigation into the distributuion of where Vicotrian schools are located based on geolocation. A breakdown of hwhat percent of schools are located in different geolocations as well as a box plot showing a count of schools per geolocation are provided to visualise the data. Heatmaps of where schools are concentrated and located based on geolocation are also provided utlising the google maps API. Within this secion there is:\n",
    "* Geolocations percentage of schools\n",
    "* Geolocation count of schools box plot\n",
    "* Victorian school heat map\n",
    "* Heat map for each geolocation's schools"
   ]
  },
  {
   "cell_type": "code",
   "execution_count": 4,
   "id": "0664a273",
   "metadata": {},
   "outputs": [
    {
     "data": {
      "text/html": [
       "<div>\n",
       "<style scoped>\n",
       "    .dataframe tbody tr th:only-of-type {\n",
       "        vertical-align: middle;\n",
       "    }\n",
       "\n",
       "    .dataframe tbody tr th {\n",
       "        vertical-align: top;\n",
       "    }\n",
       "\n",
       "    .dataframe thead th {\n",
       "        text-align: right;\n",
       "    }\n",
       "</style>\n",
       "<table border=\"1\" class=\"dataframe\">\n",
       "  <thead>\n",
       "    <tr style=\"text-align: right;\">\n",
       "      <th></th>\n",
       "      <th>Count</th>\n",
       "      <th>Percentage</th>\n",
       "    </tr>\n",
       "    <tr>\n",
       "      <th>Geolocation</th>\n",
       "      <th></th>\n",
       "      <th></th>\n",
       "    </tr>\n",
       "  </thead>\n",
       "  <tbody>\n",
       "    <tr>\n",
       "      <th>Inner Regional</th>\n",
       "      <td>83</td>\n",
       "      <td>21.957672</td>\n",
       "    </tr>\n",
       "    <tr>\n",
       "      <th>Major Cities</th>\n",
       "      <td>252</td>\n",
       "      <td>66.666667</td>\n",
       "    </tr>\n",
       "    <tr>\n",
       "      <th>Outer Regional</th>\n",
       "      <td>39</td>\n",
       "      <td>10.317460</td>\n",
       "    </tr>\n",
       "    <tr>\n",
       "      <th>Remote</th>\n",
       "      <td>4</td>\n",
       "      <td>1.058201</td>\n",
       "    </tr>\n",
       "  </tbody>\n",
       "</table>\n",
       "</div>"
      ],
      "text/plain": [
       "                Count  Percentage\n",
       "Geolocation                      \n",
       "Inner Regional     83   21.957672\n",
       "Major Cities      252   66.666667\n",
       "Outer Regional     39   10.317460\n",
       "Remote              4    1.058201"
      ]
     },
     "execution_count": 4,
     "metadata": {},
     "output_type": "execute_result"
    }
   ],
   "source": [
    "#Count of each school in each geo location and calculate geolocation's count percentage\n",
    "geo_schools_gb = school_df.groupby(['Geolocation'])\n",
    "schools_sort_size = pd.DataFrame(geo_schools_gb.size())\n",
    "schools_sort_size.columns = [\"Count\"]\n",
    "schools_sort_size [\"Percentage\"] = (100*(schools_sort_size['Count']/schools_sort_size['Count'].sum()))\n",
    "schools_sort_size"
   ]
  },
  {
   "cell_type": "code",
   "execution_count": 5,
   "id": "922e1707",
   "metadata": {},
   "outputs": [
    {
     "data": {
      "image/png": "[encoded data removed]",
      "text/plain": [
       "<Figure size 720x720 with 1 Axes>"
      ]
     },
     "metadata": {},
     "output_type": "display_data"
    }
   ],
   "source": [
    "#Percentage of all schools in Victoria per Geolocation\n",
    "schools_sort_size.plot.pie(y= 'Percentage' ,figsize=(10,10), explode=( 0.05,0.05,0.05,0.05),\n",
    "        labels=(\"Inner Regional\", \"Major Cities\", \"Outer Regional\", \"Remote\"),shadow= True, autopct=\"%1.1f%%\")\n",
    "plt.title('Percentage of schools per geolocaion')\n",
    "plt.savefig('output/schools_perc_pie.png')\n",
    "plt.show()"
   ]
  },
  {
   "cell_type": "code",
   "execution_count": 6,
   "id": "6201894a",
   "metadata": {},
   "outputs": [
    {
     "data": {
      "image/png": "[encoded data removed]",
      "text/plain": [
       "<Figure size 720x720 with 1 Axes>"
      ]
     },
     "metadata": {
      "needs_background": "light"
     },
     "output_type": "display_data"
    }
   ],
   "source": [
    "#Count of all schools in Victoria per Geolocation\n",
    "schools_sort_size_bar = schools_sort_size.drop(schools_sort_size.columns[1],axis=1,)\n",
    "schools_sort_size_bar = schools_sort_size_bar.sort_values('Count', ascending= False)\n",
    "schools_sort_size_bar.plot.bar(ylabel= 'Count',color='r',title = 'Count of all schools per geolocation' ,figsize=(10,10), align='center')\n",
    "plt.savefig('output/schools_count_bar.png')\n",
    "plt.show()"
   ]
  },
  {
   "cell_type": "code",
   "execution_count": 18,
   "id": "3f408668",
   "metadata": {},
   "outputs": [
    {
     "data": {
      "application/vnd.jupyter.widget-view+json": {
       "model_id": "327bf57d77004a29b295d5016a01ede6",
       "version_major": 2,
       "version_minor": 0
      },
      "text/plain": [
       "Figure(layout=FigureLayout(height='420px'))"
      ]
     },
     "metadata": {},
     "output_type": "display_data"
    }
   ],
   "source": [
    "#School location heatmap\n",
    "locations = school_df[[\"Latitude\", \"Longitude\"]].astype(float)\n",
    "fig = gmaps.figure(map_type='ROADMAP')\n",
    "heatmap_layer = gmaps.heatmap_layer(locations)\n",
    "fig.add_layer(heatmap_layer)\n",
    "fig"
   ]
  },
  {
   "cell_type": "code",
   "execution_count": 19,
   "id": "af4a929d",
   "metadata": {},
   "outputs": [
    {
     "data": {
      "application/vnd.jupyter.widget-view+json": {
       "model_id": "070c03d565d74c9f872e9ff62af8b1a2",
       "version_major": 2,
       "version_minor": 0
      },
      "text/plain": [
       "Figure(layout=FigureLayout(height='420px'))"
      ]
     },
     "metadata": {},
     "output_type": "display_data"
    }
   ],
   "source": [
    "\n",
    "Inner_Regional_data = school_df.loc[(school_df['Geolocation'] == 'Inner Regional')]\n",
    "locations = Inner_Regional_data[[\"Latitude\", \"Longitude\"]].astype(float)\n",
    "fig = gmaps.figure(map_type='ROADMAP')\n",
    "heatmap_layer = gmaps.heatmap_layer(locations)\n",
    "fig.add_layer(heatmap_layer)\n",
    "fig"
   ]
  },
  {
   "cell_type": "code",
   "execution_count": 20,
   "id": "b4013418",
   "metadata": {},
   "outputs": [
    {
     "data": {
      "application/vnd.jupyter.widget-view+json": {
       "model_id": "1703156de0064f599f27c7b001f91b09",
       "version_major": 2,
       "version_minor": 0
      },
      "text/plain": [
       "Figure(layout=FigureLayout(height='420px'))"
      ]
     },
     "metadata": {},
     "output_type": "display_data"
    }
   ],
   "source": [
    "Major_Cities_data = school_df.loc[(school_df['Geolocation'] == 'Major Cities')]\n",
    "locations = Major_Cities_data[[\"Latitude\", \"Longitude\"]].astype(float)\n",
    "fig = gmaps.figure(map_type='ROADMAP')\n",
    "heatmap_layer = gmaps.heatmap_layer(locations)\n",
    "fig.add_layer(heatmap_layer)\n",
    "fig"
   ]
  },
  {
   "cell_type": "code",
   "execution_count": 21,
   "id": "e8b31cbf",
   "metadata": {},
   "outputs": [
    {
     "data": {
      "application/vnd.jupyter.widget-view+json": {
       "model_id": "d43ec2fe52824abba3400d4c35a2ddb4",
       "version_major": 2,
       "version_minor": 0
      },
      "text/plain": [
       "Figure(layout=FigureLayout(height='420px'))"
      ]
     },
     "metadata": {},
     "output_type": "display_data"
    }
   ],
   "source": [
    "Outer_Regional_data = school_df.loc[(school_df['Geolocation'] == 'Outer Regional')]\n",
    "locations = Outer_Regional_data[[\"Latitude\", \"Longitude\"]].astype(float)\n",
    "fig = gmaps.figure(map_type='ROADMAP')\n",
    "heatmap_layer = gmaps.heatmap_layer(locations)\n",
    "fig.add_layer(heatmap_layer)\n",
    "fig"
   ]
  },
  {
   "cell_type": "code",
   "execution_count": 25,
   "id": "f0066cc3",
   "metadata": {},
   "outputs": [
    {
     "data": {
      "application/vnd.jupyter.widget-view+json": {
       "model_id": "41e3b9cd49cf421eac6bd089688d3af3",
       "version_major": 2,
       "version_minor": 0
      },
      "text/plain": [
       "Figure(layout=FigureLayout(height='420px'))"
      ]
     },
     "metadata": {},
     "output_type": "display_data"
    }
   ],
   "source": [
    "Remote_data = school_df.loc[(school_df['Geolocation'] == 'Remote')]\n",
    "locations = Remote_data[[\"Latitude\", \"Longitude\"]].astype(float)\n",
    "fig = gmaps.figure(map_type='ROADMAP')\n",
    "heatmap_layer = gmaps.heatmap_layer(locations)\n",
    "fig.add_layer(heatmap_layer)\n",
    "fig\n"
   ]
  },
  {
   "cell_type": "markdown",
   "id": "7f2742ce",
   "metadata": {},
   "source": [
    "# Geolocation School Diversity\n",
    "This section investigates access to educational resources based on geolocation. Counting school types and Sector. Also looking at a better data set of percentages for school type and sector for each geolocation:\n",
    "* Each geolocation school type count, pie chart or histogram\n",
    "* Each geolocation sector count, pie histogram\n",
    "* Percentage of school type, histogram for geolocation\n",
    "* Percentage of sector, histogram for geolocaiton\n",
    "##### Academic sucess in Sector\n",
    "since this is less directly relavent to the analysis it might be skiped but it could provide good information if sector does infact have an affect on academic sucess:\n",
    "* Meadian study score box chart, gov, non-gov\n",
    "* 40%+ gov non gov box chart\n",
    "* bin of % Applying for Tertiary Study "
   ]
  },
  {
   "cell_type": "code",
   "execution_count": null,
   "id": "5585d93e",
   "metadata": {},
   "outputs": [],
   "source": []
  },
  {
   "cell_type": "markdown",
   "id": "ebb16b46",
   "metadata": {},
   "source": [
    "# Geolocaiton and Academic Sucess\n",
    "This section investigates if geolocation does have an affect on academic success:\n",
    "* Geolocation median ATAR box plots (as seen bellow, hopefully without null values)\n",
    "* 40%+ geolocation box chart\n",
    "* bin for % applying for tertiary study\n",
    "* VET Certs With 2021 Enrolments\n",
    "* Top 100 median VCE scores histogram \n",
    "* Top 100 median VCE scores heatmap"
   ]
  },
  {
   "cell_type": "code",
   "execution_count": 8,
   "id": "6a95be3f",
   "metadata": {},
   "outputs": [
    {
     "data": {
      "text/plain": [
       "<AxesSubplot:title={'center':'Median VCE Score'}, xlabel='Geolocation'>"
      ]
     },
     "execution_count": 8,
     "metadata": {},
     "output_type": "execute_result"
    },
    {
     "data": {
      "image/png": "[encoded data removed]",
      "text/plain": [
       "<Figure size 1440x720 with 1 Axes>"
      ]
     },
     "metadata": {
      "needs_background": "light"
     },
     "output_type": "display_data"
    }
   ],
   "source": [
    "# Create a boxplot to compare means\n",
    "school_df.boxplot(\"Median VCE Score\", by=\"Geolocation\", figsize=(20, 10))\n",
    "\n",
    "# We may need to remove the Zeros from this in order not to skew the data??"
   ]
  },
  {
   "cell_type": "code",
   "execution_count": 9,
   "id": "3f17ccf6",
   "metadata": {},
   "outputs": [
    {
     "data": {
      "text/plain": [
       "School Name                        object\n",
       "Suburb                             object\n",
       "Type                               object\n",
       "Sector                             object\n",
       "Geolocation                        object\n",
       "Latitude                          float64\n",
       "Longitude                         float64\n",
       "VET Certs With 2021 Enrolments      int64\n",
       "% Applying for Tertiary Study     float64\n",
       "Median VCE Score                    int64\n",
       "VCE 40+ %                         float64\n",
       "dtype: object"
      ]
     },
     "execution_count": 9,
     "metadata": {},
     "output_type": "execute_result"
    }
   ],
   "source": [
    "school_df.dtypes"
   ]
  },
  {
   "cell_type": "code",
   "execution_count": null,
   "id": "8ed19269",
   "metadata": {},
   "outputs": [],
   "source": []
  }
 ],
 "metadata": {
  "kernelspec": {
   "display_name": "Python 3.9.12 ('base')",
   "language": "python",
   "name": "python3"
  },
  "language_info": {
   "codemirror_mode": {
    "name": "ipython",
    "version": 3
   },
   "file_extension": ".py",
   "mimetype": "text/x-python",
   "name": "python",
   "nbconvert_exporter": "python",
   "pygments_lexer": "ipython3",
   "version": "3.9.12"
  },
  "vscode": {
   "interpreter": {
    "hash": "b98826369006c2dd1ccf8d106235eaa643bd89f632ee848b92ea26653baccf0c"
   }
  }
 },
 "nbformat": 4,
 "nbformat_minor": 5
}
