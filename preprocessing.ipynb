{
 "cells": [
  {
   "cell_type": "code",
   "execution_count": 1,
   "metadata": {},
   "outputs": [],
   "source": [
    "import pandas as pd\n",
    "\n",
    "\n",
    "# File to Load\n",
    "school_data_to_load = \"Resources/VictoriaSchoolData.xlsx\"\n",
    "\n",
    "school_results_data_to_load = \"Resources/2021SeniorSecondaryCompletionAndAchievementInformation.xlsx\"\n",
    "\n",
    "# Read School and Student Data File and store into Pandas DataFrames\n",
    "school_data = pd.read_excel(school_data_to_load, skiprows=[0])\n",
    "school_results_df = pd.read_excel(school_results_data_to_load, skiprows=[0,1,2,3,4,5,6,7,8,9], index_col=None, na_values=['NaN'])"
   ]
  },
  {
   "cell_type": "code",
   "execution_count": 2,
   "metadata": {},
   "outputs": [],
   "source": [
    "# Dropping unusable columns in School Data df\n",
    "cols = [0,3,4,7,9,10]\n",
    "school_data_df_after_drop = school_data.drop(school_data.columns[cols],axis=1)"
   ]
  },
  {
   "cell_type": "code",
   "execution_count": 3,
   "metadata": {},
   "outputs": [],
   "source": [
    "# Dropping unusable columns in School Results df\n",
    "cols = [1,2,4,6,7,8,9,11,12,13,14]\n",
    "school_results_df_after_drop = school_results_df.drop(school_results_df.columns[cols],axis=1)"
   ]
  },
  {
   "cell_type": "code",
   "execution_count": 4,
   "metadata": {},
   "outputs": [],
   "source": [
    "# Adding a new column for school name and suburb in lower case\n",
    "school_data_df_after_drop['School Name Lower'] = school_data_df_after_drop['School Name'].str.lower()\n",
    "school_data_df_after_drop['Suburb Lower'] = school_data_df_after_drop['Suburb'].str.lower()\n",
    "\n",
    "school_results_df_after_drop['School Name Lower'] = school_results_df_after_drop['School'].str.lower()\n",
    "school_results_df_after_drop['Suburb Lower'] = school_results_df_after_drop['Locality'].str.lower()\n",
    "\n",
    "# Merging dataframe School Data and School results by the newly created lower case School Name Lower AND Suburb Lower\n",
    "merged_school_df = pd.merge(school_data_df_after_drop, school_results_df_after_drop, how='inner', \n",
    "                            left_on=[\"School Name Lower\", \"Suburb Lower\"], \n",
    "                            right_on=[\"School Name Lower\", \"Suburb Lower\"])"
   ]
  },
  {
   "cell_type": "code",
   "execution_count": 5,
   "metadata": {},
   "outputs": [],
   "source": [
    "# Renaming Column headers for better readability\n",
    "merged_school_df.rename(columns={\"Number of VET certificates with 2021 enrolments\": \"VET Certs With 2021 Enrolments\",\n",
    "                                \"Percentage of VCE students applying for tertiary places\": \"% Applying for Tertiary Study\",\n",
    "                                \"Median VCE study score\": \"Median VCE Score\",\n",
    "                                \"Percentage of study scores of 40 and over\": \"VCE 40+ %\"}, inplace = True)\n",
    "\n",
    "# Dropping duplicate columns\n",
    "cols = [7,8,9,10]\n",
    "merged_school_df = merged_school_df.drop(merged_school_df.columns[cols],axis=1)"
   ]
  },
  {
   "cell_type": "code",
   "execution_count": 6,
   "metadata": {},
   "outputs": [],
   "source": [
    "# Export this df to a csv so we can analyse the data in another notebook\n",
    "merged_school_df.to_csv(\"Resources/Cleaned_VCE_results_by_school.csv\", index=False)"
   ]
  }
 ],
 "metadata": {
  "kernelspec": {
   "display_name": "Python [conda env:root]",
   "language": "python",
   "name": "conda-root-py"
  },
  "language_info": {
   "codemirror_mode": {
    "name": "ipython",
    "version": 3
   },
   "file_extension": ".py",
   "mimetype": "text/x-python",
   "name": "python",
   "nbconvert_exporter": "python",
   "pygments_lexer": "ipython3",
   "version": "3.9.12"
  },
  "vscode": {
   "interpreter": {
    "hash": "7b5dafb7911b9fad7aeafe63a04f96494a4f07c5b597b2603ae27fe00f8fdad8"
   }
  }
 },
 "nbformat": 4,
 "nbformat_minor": 2
}
