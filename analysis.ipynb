{
 "cells": [
  {
   "cell_type": "code",
   "execution_count": null,
   "id": "fcc26018",
   "metadata": {},
   "outputs": [],
   "source": [
    "# Identifying the duplicate School's  \n",
    "duplicate_data = (school_data[school_data.duplicated(subset=['School Name'], keep = False)])\n",
    "\n",
    "# Setup variable to hold duplicate school names\n",
    "duplicate_school_name = duplicate_data['School Name'].unique()\n",
    "\n",
    "# Create a clean DataFrame by dropping the duplicate Schools\n",
    "clean_school_df = pd.DataFrame(school_data[school_data[\"School Name\"] != duplicate_school_name[1]])\n",
    "\n",
    "# Reset index after clean\n",
    "clean_school_df = clean_school_df.reset_index(drop=True)"
   ]
  },
  {
   "cell_type": "code",
   "execution_count": null,
   "id": "9570737d",
   "metadata": {},
   "outputs": [],
   "source": [
    "# Identifying the duplicate School's  \n",
    "duplicate_data = (school_results_df[school_results_df.duplicated(subset=['School'], keep = False)])\n",
    "\n",
    "# Setup variable to hold duplicate school names\n",
    "duplicate_school_name = duplicate_data['School'].unique()\n",
    "\n",
    "# Create a clean DataFrame by dropping the duplicate Schools\n",
    "clean_school_results_df = pd.DataFrame(school_results_df[school_results_df[\"School\"] != duplicate_school_name[0]])\n",
    "\n",
    "# Reset index after clean\n",
    "clean_school_results_df = clean_school_results_df.reset_index(drop=True)"
   ]
  },
  {
   "cell_type": "code",
   "execution_count": null,
   "id": "24acc9fd",
   "metadata": {},
   "outputs": [],
   "source": [
    ".str.lower()"
   ]
  }
 ],
 "metadata": {
  "kernelspec": {
   "display_name": "Python [conda env:root]",
   "language": "python",
   "name": "conda-root-py"
  },
  "language_info": {
   "codemirror_mode": {
    "name": "ipython",
    "version": 3
   },
   "file_extension": ".py",
   "mimetype": "text/x-python",
   "name": "python",
   "nbconvert_exporter": "python",
   "pygments_lexer": "ipython3",
   "version": "3.9.12"
  }
 },
 "nbformat": 4,
 "nbformat_minor": 5
}
